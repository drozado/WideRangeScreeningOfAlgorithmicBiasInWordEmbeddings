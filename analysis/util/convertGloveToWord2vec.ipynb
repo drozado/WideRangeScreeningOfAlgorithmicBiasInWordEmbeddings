{
 "cells": [
  {
   "cell_type": "markdown",
   "metadata": {},
   "source": [
    "## Prelims"
   ]
  },
  {
   "cell_type": "code",
   "execution_count": 2,
   "metadata": {
    "scrolled": true
   },
   "outputs": [
    {
     "data": {
      "text/plain": [
       "'3.6.0'"
      ]
     },
     "execution_count": 2,
     "metadata": {},
     "output_type": "execute_result"
    }
   ],
   "source": [
    "from os import listdir\n",
    "sys.path.insert(0, '../') # necessary in order to import word2vecTraining where the epoch saver class, which is part of the model, is located\n",
    "from os.path import isfile, join\n",
    "import re\n",
    "import csv\n",
    "import gensim\n",
    "import numpy as np\n",
    "from gensim.models.word2vec import Word2Vec\n",
    "from gensim.models import KeyedVectors\n",
    "import logging\n",
    "import os\n",
    "import pandas as pd \n",
    "import sys\n",
    "import sklearn.metrics\n",
    "import sklearn\n",
    "import matplotlib.pyplot as plt #For graphics\n",
    "import seaborn #Makes the graphics look nicer\n",
    "import random\n",
    "import math\n",
    "import warnings\n",
    "import utils\n",
    "from utils import *\n",
    "\n",
    "\n",
    "gensim.__version__"
   ]
  },
  {
   "cell_type": "code",
   "execution_count": 4,
   "metadata": {},
   "outputs": [
    {
     "data": {
      "text/plain": [
       "(2196017, 300)"
      ]
     },
     "execution_count": 4,
     "metadata": {},
     "output_type": "execute_result"
    }
   ],
   "source": [
    "from gensim.scripts.glove2word2vec import glove2word2vec\n",
    "glove_input_file = 'D:\\data\\wordVectors\\glove.840B.300d.txt'\n",
    "word2vec_output_file = 'D:\\data\\wordVectors\\glove.840B.300d.txt.word2vec'\n",
    "glove2word2vec(glove_input_file, word2vec_output_file)"
   ]
  },
  {
   "cell_type": "code",
   "execution_count": 5,
   "metadata": {},
   "outputs": [],
   "source": [
    "modelsPath = os.path.normpath(r'D:\\data\\wordVectors') \n",
    "\n",
    "\n",
    "# modelFilePath = os.path.join(modelsPath, 'glove.6B.300d.txt.word2vec')\n",
    "modelFilePath = os.path.join(modelsPath, 'glove.840B.300d.txt.word2vec')\n",
    "model = KeyedVectors.load_word2vec_format(modelFilePath,binary=False) "
   ]
  },
  {
   "cell_type": "code",
   "execution_count": 6,
   "metadata": {},
   "outputs": [],
   "source": [
    "modelFilePath = os.path.join(modelsPath, 'glove.840B.300d.txt.word2vec.bin')\n",
    "model.save(modelFilePath)"
   ]
  },
  {
   "cell_type": "code",
   "execution_count": 53,
   "metadata": {},
   "outputs": [
    {
     "data": {
      "text/plain": [
       "[('trees', 0.8235682249069214),\n",
       " ('pine', 0.5284949541091919),\n",
       " ('oak', 0.5163029432296753),\n",
       " ('shrubs', 0.4892759919166565),\n",
       " ('planted', 0.48489314317703247),\n",
       " ('trunks', 0.4708755612373352),\n",
       " ('bark', 0.46457260847091675),\n",
       " ('garden', 0.4625778794288635),\n",
       " ('fruit', 0.4622165560722351),\n",
       " ('flower', 0.46065282821655273)]"
      ]
     },
     "execution_count": 53,
     "metadata": {},
     "output_type": "execute_result"
    }
   ],
   "source": [
    "model.most_similar('tree')"
   ]
  }
 ],
 "metadata": {
  "anaconda-cloud": {},
  "kernelspec": {
   "display_name": "Python 3",
   "language": "python",
   "name": "python3"
  },
  "language_info": {
   "codemirror_mode": {
    "name": "ipython",
    "version": 3
   },
   "file_extension": ".py",
   "mimetype": "text/x-python",
   "name": "python",
   "nbconvert_exporter": "python",
   "pygments_lexer": "ipython3",
   "version": "3.7.3"
  }
 },
 "nbformat": 4,
 "nbformat_minor": 1
}
