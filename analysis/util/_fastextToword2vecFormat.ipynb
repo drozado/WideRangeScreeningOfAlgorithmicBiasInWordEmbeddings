{
 "cells": [
  {
   "cell_type": "code",
   "execution_count": 2,
   "metadata": {},
   "outputs": [],
   "source": [
    "from os import listdir\n",
    "from os.path import isfile, join\n",
    "import re\n",
    "import csv\n",
    "import gensim\n",
    "import numpy as np\n",
    "from gensim.models.word2vec import Word2Vec\n",
    "from gensim.models import KeyedVectors\n",
    "sys.path.insert(0, '../') # necessary in order to import word2vecTraining where the epoch saver class, which is part of the model, is located\n",
    "from gensim.models.wrappers import FastText\n",
    "import logging\n",
    "import os\n",
    "import pandas as pd \n",
    "import sys\n",
    "import sklearn.metrics\n",
    "import sklearn\n",
    "import matplotlib.pyplot as plt #For graphics\n",
    "import seaborn #Makes the graphics look nicer\n",
    "import random\n",
    "import math\n",
    "import warnings\n",
    "import utils\n",
    "from utils import *\n",
    "import scipy.stats\n",
    "from constructs import *\n",
    "#import constructs\n",
    "\n",
    "random.seed(1)\n",
    "\n",
    "warnings.simplefilter(action='ignore', category=FutureWarning)\n",
    "warnings.simplefilter(action='ignore', category=DeprecationWarning)\n",
    "# warnings.filterwarnings('ignore')\n",
    "\n"
   ]
  },
  {
   "cell_type": "code",
   "execution_count": 3,
   "metadata": {},
   "outputs": [],
   "source": [
    "modelsPath = os.path.normpath(r'D:\\data\\wordVectors') \n",
    "modelFilePath = os.path.join(modelsPath, 'fastext-wiki-news-300d-1M-subword-Original.vec')\n",
    "\n",
    "# model4 = FastText.load_fasttext_format(modelFilePath)\n",
    "# model4 = FastText.load(modelFilePath,mmap='r')\n",
    "model5 = KeyedVectors.load_word2vec_format(modelFilePath,binary=False)"
   ]
  },
  {
   "cell_type": "code",
   "execution_count": null,
   "metadata": {},
   "outputs": [],
   "source": []
  },
  {
   "cell_type": "code",
   "execution_count": 4,
   "metadata": {},
   "outputs": [],
   "source": [
    "modelsPath = os.path.normpath(r'D:\\data\\wordVectors') \n",
    "modelFilePath = os.path.join(modelsPath, 'fastext-wiki-news-300d-1M-subword-Original.bin')\n",
    "model5.save_word2vec_format(modelFilePath,binary=True)"
   ]
  },
  {
   "cell_type": "code",
   "execution_count": 5,
   "metadata": {},
   "outputs": [],
   "source": [
    "modelsPath = os.path.normpath(r'D:\\data\\wordVectors') \n",
    "modelFilePath = os.path.join(modelsPath, 'fastext-wiki-news-300d-1M-subword-Original.bin')\n",
    "model5 = KeyedVectors.load_word2vec_format(modelFilePath,binary=True)"
   ]
  },
  {
   "cell_type": "code",
   "execution_count": null,
   "metadata": {},
   "outputs": [],
   "source": []
  }
 ],
 "metadata": {
  "anaconda-cloud": {},
  "kernelspec": {
   "display_name": "Python 3",
   "language": "python",
   "name": "python3"
  },
  "language_info": {
   "codemirror_mode": {
    "name": "ipython",
    "version": 3
   },
   "file_extension": ".py",
   "mimetype": "text/x-python",
   "name": "python",
   "nbconvert_exporter": "python",
   "pygments_lexer": "ipython3",
   "version": "3.7.3"
  }
 },
 "nbformat": 4,
 "nbformat_minor": 1
}
