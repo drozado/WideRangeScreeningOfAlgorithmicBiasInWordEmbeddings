{
 "cells": [
  {
   "cell_type": "code",
   "execution_count": 2,
   "metadata": {
    "scrolled": true
   },
   "outputs": [],
   "source": [
    "from word2vecTraining import preprocessing, training, evaluation\n",
    "from os import listdir\n",
    "from os.path import isfile, join\n",
    "import re\n",
    "import csv\n",
    "from gensim.parsing.preprocessing import * #provides a number of convenience preprocessing functions optimized for speed\n",
    "import time\n",
    "import gensim\n",
    "from gensim.models.word2vec import Word2Vec\n",
    "from multiprocessing import cpu_count\n",
    "import logging\n",
    "import os\n",
    "import csv\n",
    "import numpy as np\n",
    "from gensim.models import KeyedVectors"
   ]
  },
  {
   "cell_type": "markdown",
   "metadata": {},
   "source": [
    "### Logging"
   ]
  },
  {
   "cell_type": "code",
   "execution_count": 3,
   "metadata": {
    "scrolled": true
   },
   "outputs": [],
   "source": [
    "import logging\n",
    "#logging.getLogger('').handlers = []  #To delete previous logging configuration\n",
    "\n",
    "logging.basicConfig(\n",
    "    format='%(asctime)s : %(levelname)s : %(message)s', level=logging.INFO,\n",
    "    #If log into standard output and to a file is desired:\n",
    "    #handlers=[logging.FileHandler(\"{0}/{1}.log\".format('./', uniName)), #path, File name\n",
    "    #         logging.StreamHandler()]\n",
    ")"
   ]
  },
  {
   "cell_type": "markdown",
   "metadata": {},
   "source": [
    "### Loading the models"
   ]
  },
  {
   "cell_type": "code",
   "execution_count": 4,
   "metadata": {},
   "outputs": [
    {
     "name": "stderr",
     "output_type": "stream",
     "text": [
      "2019-06-13 10:57:14,703 : INFO : loading Word2VecKeyedVectors object from D:\\data\\wordVectors\\GoogleNews-vectors-negative300LowerCase.bin\n",
      "2019-06-13 10:57:20,998 : INFO : loading vectors from D:\\data\\wordVectors\\GoogleNews-vectors-negative300LowerCase.bin.vectors.npy with mmap=None\n",
      "2019-06-13 10:57:22,514 : INFO : setting ignored attribute vectors_norm to None\n",
      "2019-06-13 10:57:22,516 : INFO : loaded D:\\data\\wordVectors\\GoogleNews-vectors-negative300LowerCase.bin\n"
     ]
    }
   ],
   "source": [
    "modelsPath = os.path.normpath(r'D:\\data\\wordVectors') \n",
    "# modelFilePath = os.path.join(modelsPath, 'GoogleNews-vectors-negative300.bin')\n",
    "# model2 = KeyedVectors.load_word2vec_format(modelFilePath,binary=True) \n",
    "modelFilePath = os.path.join(modelsPath, 'GoogleNews-vectors-negative300LowerCase.bin')\n",
    "model1 = KeyedVectors.load(modelFilePath) "
   ]
  },
  {
   "cell_type": "code",
   "execution_count": 5,
   "metadata": {},
   "outputs": [
    {
     "name": "stderr",
     "output_type": "stream",
     "text": [
      "2019-06-13 10:57:22,521 : INFO : loading projection weights from D:\\data\\wordVectors\\glove.6B.300d.txt.word2vec.bin\n",
      "2019-06-13 10:57:28,971 : INFO : loaded (400000, 300) matrix from D:\\data\\wordVectors\\glove.6B.300d.txt.word2vec.bin\n"
     ]
    }
   ],
   "source": [
    "modelsPath = os.path.normpath(r'D:\\data\\wordVectors') \n",
    "modelFilePath = os.path.join(modelsPath, 'glove.6B.300d.txt.word2vec.bin')\n",
    "model2 = KeyedVectors.load_word2vec_format(modelFilePath,binary=True) "
   ]
  },
  {
   "cell_type": "code",
   "execution_count": 6,
   "metadata": {},
   "outputs": [
    {
     "name": "stderr",
     "output_type": "stream",
     "text": [
      "2019-06-13 10:57:28,977 : INFO : loading Word2VecKeyedVectors object from D:\\data\\wordVectors\\glove.twitter.27B.200d.txt.word2vec.bin\n",
      "2019-06-13 10:57:31,182 : INFO : loading vectors from D:\\data\\wordVectors\\glove.twitter.27B.200d.txt.word2vec.bin.vectors.npy with mmap=None\n",
      "2019-06-13 10:57:31,579 : INFO : setting ignored attribute vectors_norm to None\n",
      "2019-06-13 10:57:31,580 : INFO : loaded D:\\data\\wordVectors\\glove.twitter.27B.200d.txt.word2vec.bin\n"
     ]
    }
   ],
   "source": [
    "modelsPath = os.path.normpath(r'D:\\data\\wordVectors') \n",
    "modelFilePath = os.path.join(modelsPath, 'glove.twitter.27B.200d.txt.word2vec.bin')\n",
    "model3 = KeyedVectors.load(modelFilePath) "
   ]
  },
  {
   "cell_type": "code",
   "execution_count": 7,
   "metadata": {},
   "outputs": [
    {
     "name": "stderr",
     "output_type": "stream",
     "text": [
      "2019-06-13 10:57:31,585 : INFO : loading Word2VecKeyedVectors object from D:\\data\\wordVectors\\glove.42B.300d.txt.word2vec.bin\n",
      "2019-06-13 10:57:35,065 : INFO : loading vectors from D:\\data\\wordVectors\\glove.42B.300d.txt.word2vec.bin.vectors.npy with mmap=None\n",
      "2019-06-13 10:57:35,995 : INFO : setting ignored attribute vectors_norm to None\n",
      "2019-06-13 10:57:35,996 : INFO : loaded D:\\data\\wordVectors\\glove.42B.300d.txt.word2vec.bin\n"
     ]
    }
   ],
   "source": [
    "modelsPath = os.path.normpath(r'D:\\data\\wordVectors') \n",
    "modelFilePath = os.path.join(modelsPath, 'glove.42B.300d.txt.word2vec.bin')\n",
    "model4 = KeyedVectors.load(modelFilePath) "
   ]
  },
  {
   "cell_type": "code",
   "execution_count": 8,
   "metadata": {},
   "outputs": [
    {
     "name": "stderr",
     "output_type": "stream",
     "text": [
      "2019-06-13 10:57:36,001 : INFO : loading Word2VecKeyedVectors object from D:\\data\\wordVectors\\glove.840B.300d.txt.word2vec.bin\n",
      "2019-06-13 10:57:41,394 : INFO : loading vectors from D:\\data\\wordVectors\\glove.840B.300d.txt.word2vec.bin.vectors.npy with mmap=None\n",
      "2019-06-13 10:57:42,467 : INFO : setting ignored attribute vectors_norm to None\n",
      "2019-06-13 10:57:42,468 : INFO : loaded D:\\data\\wordVectors\\glove.840B.300d.txt.word2vec.bin\n"
     ]
    }
   ],
   "source": [
    "modelsPath = os.path.normpath(r'D:\\data\\wordVectors') \n",
    "modelFilePath = os.path.join(modelsPath, 'glove.840B.300d.txt.word2vec.bin')\n",
    "model5 = KeyedVectors.load(modelFilePath) "
   ]
  },
  {
   "cell_type": "code",
   "execution_count": 9,
   "metadata": {},
   "outputs": [
    {
     "name": "stderr",
     "output_type": "stream",
     "text": [
      "2019-06-13 10:57:42,473 : INFO : loading Word2VecKeyedVectors object from D:\\data\\wordVectors\\fastext-common-crawl-300d-2M-subword.bin\n",
      "2019-06-13 10:57:46,917 : INFO : loading vectors from D:\\data\\wordVectors\\fastext-common-crawl-300d-2M-subword.bin.vectors.npy with mmap=None\n",
      "2019-06-13 10:57:47,895 : INFO : setting ignored attribute vectors_norm to None\n",
      "2019-06-13 10:57:47,896 : INFO : loaded D:\\data\\wordVectors\\fastext-common-crawl-300d-2M-subword.bin\n"
     ]
    }
   ],
   "source": [
    "modelsPath = os.path.normpath(r'D:\\data\\wordVectors') \n",
    "modelFilePath = os.path.join(modelsPath, 'fastext-common-crawl-300d-2M-subword.bin')\n",
    "model6 = KeyedVectors.load(modelFilePath)"
   ]
  },
  {
   "cell_type": "code",
   "execution_count": 10,
   "metadata": {},
   "outputs": [
    {
     "name": "stderr",
     "output_type": "stream",
     "text": [
      "2019-06-13 10:57:47,902 : INFO : loading Word2VecKeyedVectors object from D:\\data\\wordVectors\\fastext-wiki-news-300d-1M-subword-Original.bin\n",
      "2019-06-13 10:57:49,325 : INFO : loading vectors from D:\\data\\wordVectors\\fastext-wiki-news-300d-1M-subword-Original.bin.vectors.npy with mmap=None\n",
      "2019-06-13 10:57:49,813 : INFO : setting ignored attribute vectors_norm to None\n",
      "2019-06-13 10:57:49,814 : INFO : loaded D:\\data\\wordVectors\\fastext-wiki-news-300d-1M-subword-Original.bin\n"
     ]
    }
   ],
   "source": [
    "modelsPath = os.path.normpath(r'D:\\data\\wordVectors') \n",
    "modelFilePath = os.path.join(modelsPath, 'fastext-wiki-news-300d-1M-subword-Original.bin')\n",
    "model7 = KeyedVectors.load(modelFilePath)"
   ]
  },
  {
   "cell_type": "code",
   "execution_count": null,
   "metadata": {},
   "outputs": [],
   "source": []
  },
  {
   "cell_type": "code",
   "execution_count": 7,
   "metadata": {},
   "outputs": [
    {
     "name": "stderr",
     "output_type": "stream",
     "text": [
      "C:\\Users\\drozado\\miniconda3\\lib\\site-packages\\ipykernel_launcher.py:1: DeprecationWarning: Call to deprecated `wv` (Attribute will be removed in 4.0.0, use self instead).\n",
      "  \"\"\"Entry point for launching an IPython kernel.\n"
     ]
    },
    {
     "data": {
      "text/plain": [
       "[('Jesus.Jesus', 0.8034474849700928),\n",
       " ('Yeshua', 0.7844345569610596),\n",
       " ('Jesus--', 0.7620258331298828),\n",
       " ('GodJesus', 0.7450799942016602),\n",
       " ('them.Jesus', 0.7442362308502197),\n",
       " ('Jesus-', 0.7410619258880615),\n",
       " ('Jesus--and', 0.7408331632614136),\n",
       " ('JESUS', 0.7369425296783447),\n",
       " ('Jesus--the', 0.7328667640686035),\n",
       " ('it.Jesus', 0.7259416580200195)]"
      ]
     },
     "execution_count": 7,
     "metadata": {},
     "output_type": "execute_result"
    }
   ],
   "source": [
    "model.wv.most_similar('Jesus')"
   ]
  },
  {
   "cell_type": "markdown",
   "metadata": {},
   "source": [
    "## Evaluation"
   ]
  },
  {
   "cell_type": "code",
   "execution_count": 23,
   "metadata": {},
   "outputs": [],
   "source": [
    "model=model7"
   ]
  },
  {
   "cell_type": "code",
   "execution_count": 24,
   "metadata": {
    "scrolled": true
   },
   "outputs": [
    {
     "name": "stderr",
     "output_type": "stream",
     "text": [
      "2019-06-13 13:45:16,476 : INFO : Pearson correlation coefficient against ./evaluation/wordsim353.tsv: 0.6232\n",
      "2019-06-13 13:45:16,477 : INFO : Spearman rank-order correlation coefficient against ./evaluation/wordsim353.tsv: 0.6154\n",
      "2019-06-13 13:45:16,478 : INFO : Pairs with unknown words ratio: 1.4%\n"
     ]
    },
    {
     "name": "stdout",
     "output_type": "stream",
     "text": [
      "Evaluation 50,000 Similariy,30,000 Analogies\n",
      "similarity WordSim-353: ((0.6232036631046175, 7.879528885021204e-39), SpearmanrResult(correlation=0.615377058805237, pvalue=1.2117033834015496e-37), 1.41643059490085)\n"
     ]
    },
    {
     "name": "stderr",
     "output_type": "stream",
     "text": [
      "2019-06-13 13:45:16,651 : INFO : Pearson correlation coefficient against ./evaluation/MEN_dataset_natural_form_fullTabSeparated: 0.6682\n",
      "2019-06-13 13:45:16,652 : INFO : Spearman rank-order correlation coefficient against ./evaluation/MEN_dataset_natural_form_fullTabSeparated: 0.6722\n",
      "2019-06-13 13:45:16,653 : INFO : Pairs with unknown words ratio: 5.1%\n",
      "2019-06-13 13:45:16,732 : INFO : Pearson correlation coefficient against ./evaluation/SimLex-999TabSeparated.txt: 0.4330\n",
      "2019-06-13 13:45:16,733 : INFO : Spearman rank-order correlation coefficient against ./evaluation/SimLex-999TabSeparated.txt: 0.4186\n",
      "2019-06-13 13:45:16,733 : INFO : Pairs with unknown words ratio: 0.7%\n",
      "2019-06-13 13:45:16,751 : INFO : Evaluating word analogies for top 30000 words in the model on ./evaluation/questions-words.txt\n",
      "2019-06-13 13:45:16,753 : INFO : precomputing L2-norms of word weight vectors\n"
     ]
    },
    {
     "name": "stdout",
     "output_type": "stream",
     "text": [
      "similarity MEN-3000: ((0.6682088141580138, 0.0), SpearmanrResult(correlation=0.6722007655942938, pvalue=0.0), 5.133333333333334)\n",
      "similarity Simlex-999: ((0.43297772755016406, 1.3685209003794026e-46), SpearmanrResult(correlation=0.418623185408152, pvalue=2.2956724014924354e-43), 0.7007007007007007)\n"
     ]
    },
    {
     "name": "stderr",
     "output_type": "stream",
     "text": [
      "2019-06-13 13:45:21,288 : INFO : capital-common-countries: 100.0% (506/506)\n",
      "2019-06-13 13:45:23,021 : INFO : capital-world: 98.8% (1534/1553)\n",
      "2019-06-13 13:45:23,069 : INFO : currency: 25.0% (10/40)\n",
      "2019-06-13 13:45:24,978 : INFO : city-in-state: 81.4% (1375/1689)\n",
      "2019-06-13 13:45:25,284 : INFO : family: 98.7% (302/306)\n",
      "2019-06-13 13:45:26,460 : INFO : gram1-adjective-to-adverb: 70.3% (697/992)\n",
      "2019-06-13 13:45:27,068 : INFO : gram2-opposite: 74.1% (375/506)\n",
      "2019-06-13 13:45:28,678 : INFO : gram3-comparative: 97.1% (1294/1332)\n",
      "2019-06-13 13:45:29,148 : INFO : gram4-superlative: 98.7% (375/380)\n",
      "2019-06-13 13:45:30,272 : INFO : gram5-present-participle: 97.5% (907/930)\n",
      "2019-06-13 13:45:31,912 : INFO : gram6-nationality-adjective: 99.1% (1359/1371)\n",
      "2019-06-13 13:45:33,553 : INFO : gram7-past-tense: 87.2% (1292/1482)\n",
      "2019-06-13 13:45:34,730 : INFO : gram8-plural: 98.7% (979/992)\n",
      "2019-06-13 13:45:35,496 : INFO : gram9-plural-verbs: 97.5% (634/650)\n",
      "2019-06-13 13:45:35,498 : INFO : Quadruplets with out-of-vocabulary words: 34.9%\n",
      "2019-06-13 13:45:35,498 : INFO : NB: analogies containing OOV words were skipped from evaluation! To change this behavior, use \"dummy4unknown=True\"\n",
      "2019-06-13 13:45:35,499 : INFO : Total accuracy: 91.4% (11639/12729)\n",
      "2019-06-13 13:45:35,514 : INFO : Evaluating word analogies for top 30000 words in the model on ./evaluation/1_Inflectional_morphology.txt\n",
      "2019-06-13 13:45:38,377 : INFO : I01 [noun - plural_reg].txt: 98.0% (2400/2450)\n",
      "2019-06-13 13:45:40,943 : INFO : I02 [noun - plural_irreg].txt: 80.7% (1821/2256)\n",
      "2019-06-13 13:45:41,037 : INFO : I03 [adj - comparative].txt: 100.0% (72/72)\n",
      "2019-06-13 13:45:41,059 : INFO : I04 [adj - superlative].txt: 100.0% (12/12)\n",
      "2019-06-13 13:45:43,901 : INFO : I05 [verb_inf - 3pSg].txt: 99.4% (2436/2450)\n",
      "2019-06-13 13:45:46,681 : INFO : I06 [verb_inf - Ving].txt: 91.2% (2235/2450)\n",
      "2019-06-13 13:45:49,285 : INFO : I07 [verb_inf - Ved].txt: 97.1% (2380/2450)\n",
      "2019-06-13 13:45:51,756 : INFO : I08 [verb_Ving - 3pSg].txt: 89.7% (2110/2352)\n",
      "2019-06-13 13:45:54,307 : INFO : I09 [verb_Ving - Ved].txt: 94.9% (2326/2450)\n",
      "2019-06-13 13:45:56,754 : INFO : I10 [verb_3pSg - Ved].txt: 95.3% (2151/2256)\n",
      "2019-06-13 13:45:56,756 : INFO : Quadruplets with out-of-vocabulary words: 21.6%\n",
      "2019-06-13 13:45:56,757 : INFO : NB: analogies containing OOV words were skipped from evaluation! To change this behavior, use \"dummy4unknown=True\"\n",
      "2019-06-13 13:45:56,757 : INFO : Total accuracy: 93.5% (17943/19198)\n",
      "2019-06-13 13:45:56,776 : INFO : Evaluating word analogies for top 30000 words in the model on ./evaluation/2_Derivational_morphology.txt\n",
      "2019-06-13 13:45:56,807 : INFO : D01 [noun+less_reg].txt: 0.0% (0/20)\n",
      "2019-06-13 13:45:59,462 : INFO : D02 [un+adj_reg].txt: 60.8% (1371/2256)\n",
      "2019-06-13 13:46:02,416 : INFO : D03 [adj+ly_reg].txt: 69.9% (1644/2352)\n",
      "2019-06-13 13:46:02,440 : INFO : D04 [over+adj_reg].txt: 41.7% (5/12)\n",
      "2019-06-13 13:46:02,642 : INFO : D05 [adj+ness_reg].txt: 82.1% (128/156)\n",
      "2019-06-13 13:46:02,702 : INFO : D06 [re+verb_reg].txt: 47.6% (20/42)\n",
      "2019-06-13 13:46:03,225 : INFO : D07 [verb+able_reg].txt: 21.2% (89/420)\n",
      "2019-06-13 13:46:04,534 : INFO : D08 [verb+er_irreg].txt: 34.4% (386/1122)\n",
      "2019-06-13 13:46:05,785 : INFO : D09 [verb+tion_irreg].txt: 46.2% (458/992)\n",
      "2019-06-13 13:46:07,422 : INFO : D10 [verb+ment_irreg].txt: 44.8% (597/1332)\n",
      "2019-06-13 13:46:07,423 : INFO : Quadruplets with out-of-vocabulary words: 64.5%\n",
      "2019-06-13 13:46:07,424 : INFO : NB: analogies containing OOV words were skipped from evaluation! To change this behavior, use \"dummy4unknown=True\"\n",
      "2019-06-13 13:46:07,424 : INFO : Total accuracy: 54.0% (4698/8704)\n",
      "2019-06-13 13:46:07,447 : INFO : Evaluating word analogies for top 30000 words in the model on ./evaluation/3_Encyclopedic_semantics.txt\n",
      "2019-06-13 13:46:10,173 : INFO : E01 [country - capital].txt: 98.8% (2228/2256)\n",
      "2019-06-13 13:46:12,835 : INFO : E02 [country - language].txt: 27.8% (600/2162)\n",
      "2019-06-13 13:46:14,969 : INFO : E03 [UK_city - county].txt: 37.9% (685/1806)\n",
      "2019-06-13 13:46:16,515 : INFO : E04 [name - nationality].txt: 33.0% (416/1260)\n",
      "2019-06-13 13:46:18,417 : INFO : E05 [name - occupation].txt: 32.0% (525/1640)\n",
      "2019-06-13 13:46:18,711 : INFO : E06 [animal - young].txt: 6.7% (16/240)\n",
      "2019-06-13 13:46:18,828 : INFO : E07 [animal - sound].txt: 0.0% (0/90)\n",
      "2019-06-13 13:46:19,908 : INFO : E08 [animal - shelter].txt: 0.3% (3/870)\n",
      "2019-06-13 13:46:21,751 : INFO : E09 [things - color].txt: 17.5% (259/1482)\n",
      "2019-06-13 13:46:22,415 : INFO : E10 [male - female].txt: 82.4% (455/552)\n",
      "2019-06-13 13:46:22,417 : INFO : Quadruplets with out-of-vocabulary words: 49.6%\n",
      "2019-06-13 13:46:22,417 : INFO : NB: analogies containing OOV words were skipped from evaluation! To change this behavior, use \"dummy4unknown=True\"\n",
      "2019-06-13 13:46:22,418 : INFO : Total accuracy: 42.0% (5187/12358)\n",
      "2019-06-13 13:46:22,436 : INFO : Evaluating word analogies for top 30000 words in the model on ./evaluation/4_Lexicographic_semantics.txt\n",
      "2019-06-13 13:46:22,627 : INFO : L01 [hypernyms - animals].txt: 17.9% (28/156)\n",
      "2019-06-13 13:46:23,365 : INFO : L02 [hypernyms - misc].txt: 5.7% (34/600)\n",
      "2019-06-13 13:46:23,894 : INFO : L03 [hyponyms - misc].txt: 6.3% (29/462)\n",
      "2019-06-13 13:46:26,255 : INFO : L04 [meronyms - substance].txt: 4.5% (90/1980)\n",
      "2019-06-13 13:46:28,139 : INFO : L05 [meronyms - member].txt: 3.1% (49/1560)\n",
      "2019-06-13 13:46:29,067 : INFO : L06 [meronyms - part].txt: 0.9% (7/756)\n",
      "2019-06-13 13:46:30,351 : INFO : L07 [synonyms - intensity].txt: 15.6% (165/1056)\n",
      "2019-06-13 13:46:32,339 : INFO : L08 [synonyms - exact].txt: 19.8% (324/1640)\n",
      "2019-06-13 13:46:33,962 : INFO : L09 [antonyms - gradable].txt: 25.8% (343/1332)\n",
      "2019-06-13 13:46:36,320 : INFO : L10 [antonyms - binary].txt: 32.6% (617/1892)\n",
      "2019-06-13 13:46:36,321 : INFO : Quadruplets with out-of-vocabulary words: 53.3%\n",
      "2019-06-13 13:46:36,322 : INFO : NB: analogies containing OOV words were skipped from evaluation! To change this behavior, use \"dummy4unknown=True\"\n",
      "2019-06-13 13:46:36,322 : INFO : Total accuracy: 14.7% (1686/11434)\n",
      "2019-06-13 13:46:36,493 : INFO : Pearson correlation coefficient against ./evaluation/wordsim353.tsv: 0.6064\n",
      "2019-06-13 13:46:36,494 : INFO : Spearman rank-order correlation coefficient against ./evaluation/wordsim353.tsv: 0.5960\n",
      "2019-06-13 13:46:36,495 : INFO : Pairs with unknown words ratio: 0.0%\n"
     ]
    },
    {
     "name": "stdout",
     "output_type": "stream",
     "text": [
      "average Pearson Correlation:  0.6232036631046175\n",
      "average Pearson MEN Correlation:  0.6682088141580138\n",
      "average Pearson Simlex Correlation:  0.43297772755016406\n",
      "averageSemanticAccuracy:  0.9103566194430874\n",
      "averageSyntacticAccuracy:  0.9162709901563405\n",
      "averageBATS1InflectionalMorphologyAccuracy:  0.9346286071465778\n",
      "averageBATS2DerivationalMorphologyAccuracy:  0.5397518382352942\n",
      "averageBATS3EncyclopedicSemanticsAccuracy:  0.4197281113448778\n",
      "averageBATS4LexicographicSemanticsAccuracy:  0.1474549588945251\n",
      "0.6232036631046175 0.6682088141580138 0.43297772755016406 0.9103566194430874 0.9162709901563405 0.9346286071465778 0.5397518382352942 0.4197281113448778 0.1474549588945251\n",
      "XXXXXXXXXXXXXXXXXXXXXXXXXXXXXXXXXXXXXXXXXXXXXXXXXXXXXXXXXXXXXXXXXX\n",
      "Evaluation 200,000 Similarity, 200,000 Analogies\n",
      "similarity WordSim-353:"
     ]
    },
    {
     "name": "stderr",
     "output_type": "stream",
     "text": [
      "2019-06-13 13:46:36,718 : INFO : Pearson correlation coefficient against ./evaluation/MEN_dataset_natural_form_fullTabSeparated: 0.6684\n",
      "2019-06-13 13:46:36,719 : INFO : Spearman rank-order correlation coefficient against ./evaluation/MEN_dataset_natural_form_fullTabSeparated: 0.6723\n",
      "2019-06-13 13:46:36,719 : INFO : Pairs with unknown words ratio: 0.0%\n"
     ]
    },
    {
     "name": "stdout",
     "output_type": "stream",
     "text": [
      " ((0.6064103741543807, 7.981698630217618e-37), SpearmanrResult(correlation=0.5960406241295125, pvalue=2.500190593913114e-35), 0.0)\n",
      "similarity MEN-3000: ((0.6684414383283889, 0.0), SpearmanrResult(correlation=0.6723296610440039, pvalue=0.0), 0.0)\n"
     ]
    },
    {
     "name": "stderr",
     "output_type": "stream",
     "text": [
      "2019-06-13 13:46:36,923 : INFO : Pearson correlation coefficient against ./evaluation/SimLex-999TabSeparated.txt: 0.4324\n",
      "2019-06-13 13:46:36,924 : INFO : Spearman rank-order correlation coefficient against ./evaluation/SimLex-999TabSeparated.txt: 0.4181\n",
      "2019-06-13 13:46:36,925 : INFO : Pairs with unknown words ratio: 0.1%\n",
      "2019-06-13 13:46:37,108 : INFO : Evaluating word analogies for top 200000 words in the model on ./evaluation/questions-words.txt\n"
     ]
    },
    {
     "name": "stdout",
     "output_type": "stream",
     "text": [
      "similarity Simlex-999: ((0.43236751660963924, 1.0129415536615649e-46), SpearmanrResult(correlation=0.4180738235749772, pvalue=1.6968791276206318e-43), 0.10010010010010009)\n"
     ]
    },
    {
     "name": "stderr",
     "output_type": "stream",
     "text": [
      "2019-06-13 13:46:40,993 : INFO : capital-common-countries: 98.6% (499/506)\n",
      "2019-06-13 13:47:15,348 : INFO : capital-world: 97.6% (4417/4524)\n",
      "2019-06-13 13:47:21,093 : INFO : currency: 33.0% (248/752)\n",
      "2019-06-13 13:47:39,744 : INFO : city-in-state: 83.8% (2067/2467)\n",
      "2019-06-13 13:47:43,548 : INFO : family: 86.0% (435/506)\n",
      "2019-06-13 13:47:51,006 : INFO : gram1-adjective-to-adverb: 68.1% (676/992)\n",
      "2019-06-13 13:47:57,083 : INFO : gram2-opposite: 66.1% (537/812)\n",
      "2019-06-13 13:48:07,044 : INFO : gram3-comparative: 97.0% (1292/1332)\n",
      "2019-06-13 13:48:15,488 : INFO : gram4-superlative: 99.2% (1113/1122)\n",
      "2019-06-13 13:48:23,464 : INFO : gram5-present-participle: 97.7% (1032/1056)\n",
      "2019-06-13 13:48:35,467 : INFO : gram6-nationality-adjective: 92.9% (1485/1599)\n",
      "2019-06-13 13:48:47,195 : INFO : gram7-past-tense: 84.7% (1321/1560)\n",
      "2019-06-13 13:48:57,187 : INFO : gram8-plural: 96.3% (1283/1332)\n",
      "2019-06-13 13:49:03,791 : INFO : gram9-plural-verbs: 96.3% (838/870)\n",
      "2019-06-13 13:49:03,794 : INFO : Quadruplets with out-of-vocabulary words: 0.6%\n",
      "2019-06-13 13:49:03,795 : INFO : NB: analogies containing OOV words were skipped from evaluation! To change this behavior, use \"dummy4unknown=True\"\n",
      "2019-06-13 13:49:03,795 : INFO : Total accuracy: 88.7% (17243/19430)\n",
      "2019-06-13 13:49:03,966 : INFO : Evaluating word analogies for top 200000 words in the model on ./evaluation/1_Inflectional_morphology.txt\n",
      "2019-06-13 13:49:22,525 : INFO : I01 [noun - plural_reg].txt: 97.6% (2391/2450)\n",
      "2019-06-13 13:49:41,276 : INFO : I02 [noun - plural_irreg].txt: 79.8% (1954/2450)\n",
      "2019-06-13 13:49:58,823 : INFO : I03 [adj - comparative].txt: 86.9% (2043/2352)\n",
      "2019-06-13 13:50:08,192 : INFO : I04 [adj - superlative].txt: 98.2% (1237/1260)\n",
      "2019-06-13 13:50:26,485 : INFO : I05 [verb_inf - 3pSg].txt: 99.4% (2436/2450)\n",
      "2019-06-13 13:50:44,797 : INFO : I06 [verb_inf - Ving].txt: 91.2% (2234/2450)\n",
      "2019-06-13 13:51:02,874 : INFO : I07 [verb_inf - Ved].txt: 97.0% (2377/2450)\n",
      "2019-06-13 13:51:20,966 : INFO : I08 [verb_Ving - 3pSg].txt: 88.2% (2162/2450)\n",
      "2019-06-13 13:51:39,283 : INFO : I09 [verb_Ving - Ved].txt: 94.1% (2306/2450)\n",
      "2019-06-13 13:51:57,447 : INFO : I10 [verb_3pSg - Ved].txt: 94.5% (2315/2450)\n",
      "2019-06-13 13:51:57,449 : INFO : Quadruplets with out-of-vocabulary words: 5.3%\n",
      "2019-06-13 13:51:57,449 : INFO : NB: analogies containing OOV words were skipped from evaluation! To change this behavior, use \"dummy4unknown=True\"\n",
      "2019-06-13 13:51:57,450 : INFO : Total accuracy: 92.4% (21455/23212)\n",
      "2019-06-13 13:51:57,614 : INFO : Evaluating word analogies for top 200000 words in the model on ./evaluation/2_Derivational_morphology.txt\n",
      "2019-06-13 13:52:09,688 : INFO : D01 [noun+less_reg].txt: 14.5% (237/1640)\n",
      "2019-06-13 13:52:27,890 : INFO : D02 [un+adj_reg].txt: 54.1% (1326/2450)\n",
      "2019-06-13 13:52:46,224 : INFO : D03 [adj+ly_reg].txt: 67.4% (1652/2450)\n",
      "2019-06-13 13:53:00,274 : INFO : D04 [over+adj_reg].txt: 20.7% (392/1892)\n",
      "2019-06-13 13:53:10,155 : INFO : D05 [adj+ness_reg].txt: 77.2% (1028/1332)\n",
      "2019-06-13 13:53:26,252 : INFO : D06 [re+verb_reg].txt: 47.5% (1027/2162)\n",
      "2019-06-13 13:53:40,464 : INFO : D07 [verb+able_reg].txt: 21.5% (406/1892)\n",
      "2019-06-13 13:53:58,782 : INFO : D08 [verb+er_irreg].txt: 30.2% (740/2450)\n",
      "2019-06-13 13:54:14,279 : INFO : D09 [verb+tion_irreg].txt: 45.2% (935/2070)\n",
      "2019-06-13 13:54:32,783 : INFO : D10 [verb+ment_irreg].txt: 36.7% (899/2450)\n",
      "2019-06-13 13:54:32,785 : INFO : Quadruplets with out-of-vocabulary words: 15.2%\n",
      "2019-06-13 13:54:32,786 : INFO : NB: analogies containing OOV words were skipped from evaluation! To change this behavior, use \"dummy4unknown=True\"\n",
      "2019-06-13 13:54:32,787 : INFO : Total accuracy: 41.6% (8642/20788)\n",
      "2019-06-13 13:54:32,952 : INFO : Evaluating word analogies for top 200000 words in the model on ./evaluation/3_Encyclopedic_semantics.txt\n",
      "2019-06-13 13:54:51,163 : INFO : E01 [country - capital].txt: 98.2% (2407/2450)\n",
      "2019-06-13 13:55:09,508 : INFO : E02 [country - language].txt: 22.0% (539/2450)\n",
      "2019-06-13 13:55:27,480 : INFO : E03 [UK_city - county].txt: 31.9% (781/2450)\n",
      "2019-06-13 13:55:45,667 : INFO : E04 [name - nationality].txt: 33.5% (821/2450)\n",
      "2019-06-13 13:56:03,746 : INFO : E05 [name - occupation].txt: 30.6% (749/2450)\n",
      "2019-06-13 13:56:18,477 : INFO : E06 [animal - young].txt: 4.1% (81/1980)\n",
      "2019-06-13 13:56:33,850 : INFO : E07 [animal - sound].txt: 1.4% (29/2070)\n",
      "2019-06-13 13:56:51,281 : INFO : E08 [animal - shelter].txt: 0.7% (17/2352)\n",
      "2019-06-13 13:57:09,396 : INFO : E09 [things - color].txt: 16.3% (400/2450)\n",
      "2019-06-13 13:57:24,773 : INFO : E10 [male - female].txt: 55.4% (1146/2070)\n",
      "2019-06-13 13:57:24,774 : INFO : Quadruplets with out-of-vocabulary words: 5.4%\n",
      "2019-06-13 13:57:24,775 : INFO : NB: analogies containing OOV words were skipped from evaluation! To change this behavior, use \"dummy4unknown=True\"\n",
      "2019-06-13 13:57:24,776 : INFO : Total accuracy: 30.1% (6970/23172)\n",
      "2019-06-13 13:57:24,945 : INFO : Evaluating word analogies for top 200000 words in the model on ./evaluation/4_Lexicographic_semantics.txt\n",
      "2019-06-13 13:57:39,663 : INFO : L01 [hypernyms - animals].txt: 6.3% (125/1980)\n",
      "2019-06-13 13:57:55,327 : INFO : L02 [hypernyms - misc].txt: 0.7% (15/2070)\n",
      "2019-06-13 13:58:12,239 : INFO : L03 [hyponyms - misc].txt: 2.4% (55/2256)\n",
      "2019-06-13 13:58:30,527 : INFO : L04 [meronyms - substance].txt: 1.0% (24/2450)\n",
      "2019-06-13 13:58:48,037 : INFO : L05 [meronyms - member].txt: 3.6% (85/2352)\n",
      "2019-06-13 13:59:05,364 : INFO : L06 [meronyms - part].txt: 1.6% (38/2352)\n",
      "2019-06-13 13:59:22,848 : INFO : L07 [synonyms - intensity].txt: 8.9% (209/2352)\n",
      "2019-06-13 13:59:41,214 : INFO : L08 [synonyms - exact].txt: 13.0% (319/2450)\n",
      "2019-06-13 13:59:58,749 : INFO : L09 [antonyms - gradable].txt: 20.4% (480/2352)\n",
      "2019-06-13 14:00:16,991 : INFO : L10 [antonyms - binary].txt: 33.0% (808/2450)\n",
      "2019-06-13 14:00:16,993 : INFO : Quadruplets with out-of-vocabulary words: 5.9%\n",
      "2019-06-13 14:00:16,993 : INFO : NB: analogies containing OOV words were skipped from evaluation! To change this behavior, use \"dummy4unknown=True\"\n",
      "2019-06-13 14:00:16,994 : INFO : Total accuracy: 9.4% (2158/23064)\n"
     ]
    },
    {
     "name": "stdout",
     "output_type": "stream",
     "text": [
      "average Pearson Correlation:  0.6064103741543807\n",
      "average Pearson MEN Correlation:  0.6684414383283889\n",
      "average Pearson Simlex Correlation:  0.43236751660963924\n",
      "averageSemanticAccuracy:  0.8756139348943461\n",
      "averageSyntacticAccuracy:  0.8971428571428571\n",
      "averageBATS1InflectionalMorphologyAccuracy:  0.9243063932448733\n",
      "averageBATS2DerivationalMorphologyAccuracy:  0.4157206080431018\n",
      "averageBATS3EncyclopedicSemanticsAccuracy:  0.3007940617987226\n",
      "averageBATS4LexicographicSemanticsAccuracy:  0.09356573014221298\n",
      "0.6064103741543807 0.6684414383283889 0.43236751660963924 0.8756139348943461 0.8971428571428571 0.9243063932448733 0.4157206080431018 0.3007940617987226 0.09356573014221298\n"
     ]
    }
   ],
   "source": [
    "print(\"Evaluation 50,000 Similariy,30,000 Analogies\")\n",
    "pearsonCorrelation,spearmanCorrelation,pearsonCorrelationMEN, pearsonCorrelationSimlex,averageSemanticAccuracy,averageSyntacticAccuracy,averageTotalAccuracy,averageBATS1InflectionalMorphologyAccuracy,averageBATS2DerivationalMorphologyAccuracy,averageBATS3EncyclopedicSemanticsAccuracy,averageBATS4LexicographicSemanticsAccuracy = evaluation(model,50000,30000)\n",
    "print(\"average Pearson Correlation: \",pearsonCorrelation)    \n",
    "# print(\"average Spearman Correlation: \",spearmanCorrelation)  \n",
    "print(\"average Pearson MEN Correlation: \",pearsonCorrelationMEN)\n",
    "print(\"average Pearson Simlex Correlation: \",pearsonCorrelationSimlex)\n",
    "print(\"averageSemanticAccuracy: \",averageSemanticAccuracy) #Google analogies\n",
    "print(\"averageSyntacticAccuracy: \",averageSyntacticAccuracy)\n",
    "# print(\"averageTotalAccuracy: \",averageTotalAccuracy)\n",
    "print(\"averageBATS1InflectionalMorphologyAccuracy: \",averageBATS1InflectionalMorphologyAccuracy)\n",
    "print(\"averageBATS2DerivationalMorphologyAccuracy: \",averageBATS2DerivationalMorphologyAccuracy)\n",
    "print(\"averageBATS3EncyclopedicSemanticsAccuracy: \",averageBATS3EncyclopedicSemanticsAccuracy)\n",
    "print(\"averageBATS4LexicographicSemanticsAccuracy: \",averageBATS4LexicographicSemanticsAccuracy)\n",
    "# print(pearsonCorrelation,spearmanCorrelation,pearsonCorrelationMEN, pearsonCorrelationSimlex,averageSemanticAccuracy,averageSyntacticAccuracy,averageTotalAccuracy,averageBATS1InflectionalMorphologyAccuracy,averageBATS2DerivationalMorphologyAccuracy,averageBATS3EncyclopedicSemanticsAccuracy,averageBATS4LexicographicSemanticsAccuracy)\n",
    "print(pearsonCorrelation,pearsonCorrelationMEN, pearsonCorrelationSimlex,averageSemanticAccuracy,averageSyntacticAccuracy,\n",
    "      averageBATS1InflectionalMorphologyAccuracy,averageBATS2DerivationalMorphologyAccuracy,averageBATS3EncyclopedicSemanticsAccuracy,averageBATS4LexicographicSemanticsAccuracy)\n",
    "\n",
    "print(\"XXXXXXXXXXXXXXXXXXXXXXXXXXXXXXXXXXXXXXXXXXXXXXXXXXXXXXXXXXXXXXXXXX\")\n",
    "\n",
    "print(\"Evaluation 200,000 Similarity, 200,000 Analogies\")\n",
    "pearsonCorrelation,spearmanCorrelation,pearsonCorrelationMEN, pearsonCorrelationSimlex,averageSemanticAccuracy,averageSyntacticAccuracy,averageTotalAccuracy,averageBATS1InflectionalMorphologyAccuracy,averageBATS2DerivationalMorphologyAccuracy,averageBATS3EncyclopedicSemanticsAccuracy,averageBATS4LexicographicSemanticsAccuracy = evaluation(model,200000,200000)\n",
    "print(\"average Pearson Correlation: \",pearsonCorrelation)    \n",
    "# print(\"average Spearman Correlation: \",spearmanCorrelation)  \n",
    "print(\"average Pearson MEN Correlation: \",pearsonCorrelationMEN)\n",
    "print(\"average Pearson Simlex Correlation: \",pearsonCorrelationSimlex)\n",
    "print(\"averageSemanticAccuracy: \",averageSemanticAccuracy) #Google analogies\n",
    "print(\"averageSyntacticAccuracy: \",averageSyntacticAccuracy)\n",
    "# print(\"averageTotalAccuracy: \",averageTotalAccuracy)\n",
    "print(\"averageBATS1InflectionalMorphologyAccuracy: \",averageBATS1InflectionalMorphologyAccuracy)\n",
    "print(\"averageBATS2DerivationalMorphologyAccuracy: \",averageBATS2DerivationalMorphologyAccuracy)\n",
    "print(\"averageBATS3EncyclopedicSemanticsAccuracy: \",averageBATS3EncyclopedicSemanticsAccuracy)\n",
    "print(\"averageBATS4LexicographicSemanticsAccuracy: \",averageBATS4LexicographicSemanticsAccuracy)\n",
    "# print(pearsonCorrelation,spearmanCorrelation,pearsonCorrelationMEN, pearsonCorrelationSimlex,averageSemanticAccuracy,averageSyntacticAccuracy,averageTotalAccuracy,averageBATS1InflectionalMorphologyAccuracy,averageBATS2DerivationalMorphologyAccuracy,averageBATS3EncyclopedicSemanticsAccuracy,averageBATS4LexicographicSemanticsAccuracy)\n",
    "print(pearsonCorrelation,pearsonCorrelationMEN, pearsonCorrelationSimlex,averageSemanticAccuracy,averageSyntacticAccuracy,\n",
    "      averageBATS1InflectionalMorphologyAccuracy,averageBATS2DerivationalMorphologyAccuracy,averageBATS3EncyclopedicSemanticsAccuracy,averageBATS4LexicographicSemanticsAccuracy)"
   ]
  },
  {
   "cell_type": "code",
   "execution_count": null,
   "metadata": {},
   "outputs": [],
   "source": []
  },
  {
   "cell_type": "code",
   "execution_count": null,
   "metadata": {},
   "outputs": [],
   "source": []
  },
  {
   "cell_type": "code",
   "execution_count": null,
   "metadata": {},
   "outputs": [],
   "source": []
  },
  {
   "cell_type": "code",
   "execution_count": 6,
   "metadata": {},
   "outputs": [
    {
     "data": {
      "text/plain": [
       "300"
      ]
     },
     "execution_count": 6,
     "metadata": {},
     "output_type": "execute_result"
    }
   ],
   "source": [
    "len(model['car'])"
   ]
  },
  {
   "cell_type": "code",
   "execution_count": 10,
   "metadata": {},
   "outputs": [
    {
     "name": "stderr",
     "output_type": "stream",
     "text": [
      "C:\\Users\\drozado\\miniconda3\\lib\\site-packages\\ipykernel_launcher.py:1: DeprecationWarning: Call to deprecated `wv` (Attribute will be removed in 4.0.0, use self instead).\n",
      "  \"\"\"Entry point for launching an IPython kernel.\n"
     ]
    },
    {
     "data": {
      "text/plain": [
       "<gensim.models.keyedvectors.Word2VecKeyedVectors at 0x2abafe34d30>"
      ]
     },
     "execution_count": 10,
     "metadata": {},
     "output_type": "execute_result"
    }
   ],
   "source": [
    "model.wv"
   ]
  },
  {
   "cell_type": "code",
   "execution_count": 18,
   "metadata": {},
   "outputs": [
    {
     "data": {
      "text/plain": [
       "['Attorney_Bud_Cummins']"
      ]
     },
     "execution_count": 18,
     "metadata": {},
     "output_type": "execute_result"
    }
   ],
   "source": [
    "list(model.vocab)[500000:500001]"
   ]
  },
  {
   "cell_type": "code",
   "execution_count": 21,
   "metadata": {},
   "outputs": [
    {
     "data": {
      "text/plain": [
       "2070978"
      ]
     },
     "execution_count": 21,
     "metadata": {},
     "output_type": "execute_result"
    }
   ],
   "source": [
    "len([w for w in list(model.vocab) if '_' in w])"
   ]
  },
  {
   "cell_type": "code",
   "execution_count": 4,
   "metadata": {},
   "outputs": [
    {
     "name": "stdout",
     "output_type": "stream",
     "text": [
      "similarity WordSim-353: ((0.62466891733856034, 1.6245238410129314e-38), SpearmanrResult(correlation=0.66124286913940644, pvalue=1.7502391774642315e-44), 2.8328611898017)\n",
      "similarity MEN-3000: ((0.68452755571734725, 0.0), SpearmanrResult(correlation=0.70032637877306925, pvalue=0.0), 8.233333333333333)\n",
      "similarity Simlex-999: ((0.44710686173697756, 1.1227800459129215e-49), SpearmanrResult(correlation=0.43645799838103422, pvalue=3.6415474082353828e-47), 1.2012012012012012)\n"
     ]
    },
    {
     "data": {
      "text/plain": [
       "[0.62466891733856034,\n",
       " 0.66124286913940644,\n",
       " 0.68452755571734725,\n",
       " 0.44710686173697756,\n",
       " 0.781616549370868,\n",
       " 0.7648511939771792,\n",
       " 0.7708112206216831,\n",
       " 0.6833402879198832,\n",
       " 0.23648966165413535,\n",
       " 0.37236590038314177,\n",
       " 0.11086717892425905]"
      ]
     },
     "execution_count": 4,
     "metadata": {},
     "output_type": "execute_result"
    }
   ],
   "source": [
    "evaluation(model)"
   ]
  },
  {
   "cell_type": "code",
   "execution_count": 4,
   "metadata": {},
   "outputs": [
    {
     "name": "stderr",
     "output_type": "stream",
     "text": [
      "C:\\Users\\drozado\\miniconda3\\lib\\site-packages\\ipykernel_launcher.py:1: DeprecationWarning: Call to deprecated `wv` (Attribute will be removed in 4.0.0, use self instead).\n",
      "  \"\"\"Entry point for launching an IPython kernel.\n"
     ]
    },
    {
     "data": {
      "text/plain": [
       "((0.68452755571734725, 0.0),\n",
       " SpearmanrResult(correlation=0.70032637877306925, pvalue=0.0),\n",
       " 8.233333333333333)"
      ]
     },
     "execution_count": 4,
     "metadata": {},
     "output_type": "execute_result"
    }
   ],
   "source": [
    "model.wv.evaluate_word_pairs('MEN_dataset_natural_form_fullTabSeparated', restrict_vocab=50000)"
   ]
  },
  {
   "cell_type": "code",
   "execution_count": 5,
   "metadata": {},
   "outputs": [
    {
     "name": "stderr",
     "output_type": "stream",
     "text": [
      "C:\\Users\\drozado\\miniconda3\\lib\\site-packages\\ipykernel_launcher.py:1: DeprecationWarning: Call to deprecated `wv` (Attribute will be removed in 4.0.0, use self instead).\n",
      "  \"\"\"Entry point for launching an IPython kernel.\n"
     ]
    },
    {
     "data": {
      "text/plain": [
       "((0.44710686173697756, 1.1227800459129215e-49),\n",
       " SpearmanrResult(correlation=0.43645799838103422, pvalue=3.6415474082353828e-47),\n",
       " 1.2012012012012012)"
      ]
     },
     "execution_count": 5,
     "metadata": {},
     "output_type": "execute_result"
    }
   ],
   "source": [
    "model.wv.evaluate_word_pairs('SimLex-999TabSeparated.txt', restrict_vocab=50000)"
   ]
  },
  {
   "cell_type": "code",
   "execution_count": 8,
   "metadata": {},
   "outputs": [
    {
     "data": {
      "text/plain": [
       "2070978"
      ]
     },
     "execution_count": 8,
     "metadata": {},
     "output_type": "execute_result"
    }
   ],
   "source": [
    "n_grams = [w for w in model.index2word if '_' in w]\n",
    "len(n_grams)"
   ]
  },
  {
   "cell_type": "code",
   "execution_count": 14,
   "metadata": {},
   "outputs": [],
   "source": [
    "#min_count=5000,scoring='npmi',threshold=0.7-->2851\n",
    "with open(\"2GramsGoogleModel\", \"w\",encoding='utf-8') as fileOut:\n",
    "    for ngram in n_grams:\n",
    "        fileOut.write(str(ngram)+'\\n')\n",
    "#         fileOut.write(word+' '+str(model.wv.vocab[word].count)+'\\n')\n",
    "      #Do something with vocab_obj.count"
   ]
  },
  {
   "cell_type": "markdown",
   "metadata": {},
   "source": [
    "## Converting Glove format to Word2vec"
   ]
  },
  {
   "cell_type": "code",
   "execution_count": 10,
   "metadata": {},
   "outputs": [
    {
     "data": {
      "text/plain": [
       "(400000, 300)"
      ]
     },
     "execution_count": 10,
     "metadata": {},
     "output_type": "execute_result"
    }
   ],
   "source": [
    "from gensim.scripts.glove2word2vec import glove2word2vec\n",
    "path='D:\\data\\wordVectors'\n",
    "glove_input_file = 'glove.6B.300d.txt'\n",
    "word2vec_output_file = 'glove.6B.300d.txt.word2vec'\n",
    "glove2word2vec(os.path.join(path, glove_input_file), os.path.join(path, word2vec_output_file))"
   ]
  },
  {
   "cell_type": "markdown",
   "metadata": {},
   "source": [
    "### Loading Glove model"
   ]
  },
  {
   "cell_type": "code",
   "execution_count": 6,
   "metadata": {},
   "outputs": [
    {
     "name": "stderr",
     "output_type": "stream",
     "text": [
      "2019-03-14 16:44:53,077 : INFO : loading projection weights from D:\\data\\wordVectors\\glove.6B.300d.txt.word2vec\n",
      "2019-03-14 16:46:00,790 : INFO : loaded (400000, 300) matrix from D:\\data\\wordVectors\\glove.6B.300d.txt.word2vec\n"
     ]
    }
   ],
   "source": [
    "from gensim.models import KeyedVectors\n",
    "# load the Stanford GloVe model\n",
    "path='D:\\data\\wordVectors'\n",
    "filename = 'glove.6B.300d.txt.word2vec'\n",
    "modelFilePath = os.path.join(path, filename)\n",
    "model = KeyedVectors.load_word2vec_format(modelFilePath, binary=False)"
   ]
  },
  {
   "cell_type": "code",
   "execution_count": 7,
   "metadata": {},
   "outputs": [
    {
     "name": "stderr",
     "output_type": "stream",
     "text": [
      "2019-03-14 16:46:01,870 : INFO : Pearson correlation coefficient against ./evaluation/wordsim353.tsv: 0.6292\n",
      "2019-03-14 16:46:01,871 : INFO : Spearman rank-order correlation coefficient against ./evaluation/wordsim353.tsv: 0.6314\n",
      "2019-03-14 16:46:01,872 : INFO : Pairs with unknown words ratio: 1.4%\n",
      "2019-03-14 16:46:01,989 : INFO : Pearson correlation coefficient against ./evaluation/MEN_dataset_natural_form_fullTabSeparated: 0.7442\n",
      "2019-03-14 16:46:01,990 : INFO : Spearman rank-order correlation coefficient against ./evaluation/MEN_dataset_natural_form_fullTabSeparated: 0.7496\n",
      "2019-03-14 16:46:01,991 : INFO : Pairs with unknown words ratio: 2.5%\n"
     ]
    },
    {
     "name": "stdout",
     "output_type": "stream",
     "text": [
      "Evaluation 50,000 Similariy,30,000 Analogies\n",
      "similarity WordSim-353: ((0.6292469188016179, 9.05281676615284e-40), SpearmanrResult(correlation=0.6314071943626178, pvalue=4.128692521561968e-40), 1.41643059490085)\n",
      "similarity MEN-3000: ((0.7441927713511737, 0.0), SpearmanrResult(correlation=0.7496434372197776, pvalue=0.0), 2.5)\n"
     ]
    },
    {
     "name": "stderr",
     "output_type": "stream",
     "text": [
      "2019-03-14 16:46:02,060 : INFO : Pearson correlation coefficient against ./evaluation/SimLex-999TabSeparated.txt: 0.3905\n",
      "2019-03-14 16:46:02,061 : INFO : Spearman rank-order correlation coefficient against ./evaluation/SimLex-999TabSeparated.txt: 0.3715\n",
      "2019-03-14 16:46:02,061 : INFO : Pairs with unknown words ratio: 0.4%\n",
      "2019-03-14 16:46:02,083 : INFO : Evaluating word analogies for top 30000 words in the model on ./evaluation/questions-words.txt\n",
      "2019-03-14 16:46:02,084 : INFO : precomputing L2-norms of word weight vectors\n"
     ]
    },
    {
     "name": "stdout",
     "output_type": "stream",
     "text": [
      "similarity Simlex-999: ((0.3905111485047126, 1.3519470319026956e-37), SpearmanrResult(correlation=0.3715111474174903, pvalue=6.381473331240619e-34), 0.40040040040040037)\n"
     ]
    },
    {
     "name": "stderr",
     "output_type": "stream",
     "text": [
      "2019-03-14 16:46:03,463 : INFO : capital-common-countries: 95.3% (482/506)\n",
      "2019-03-14 16:46:06,343 : INFO : capital-world: 95.7% (2598/2715)\n",
      "2019-03-14 16:46:06,604 : INFO : currency: 18.2% (43/236)\n",
      "2019-03-14 16:46:09,061 : INFO : city-in-state: 59.6% (1314/2203)\n",
      "2019-03-14 16:46:09,451 : INFO : family: 92.7% (317/342)\n",
      "2019-03-14 16:46:10,409 : INFO : gram1-adjective-to-adverb: 21.6% (188/870)\n",
      "2019-03-14 16:46:10,818 : INFO : gram2-opposite: 32.9% (125/380)\n",
      "2019-03-14 16:46:12,237 : INFO : gram3-comparative: 88.3% (1176/1332)\n",
      "2019-03-14 16:46:12,874 : INFO : gram4-superlative: 79.5% (477/600)\n",
      "2019-03-14 16:46:13,873 : INFO : gram5-present-participle: 68.7% (639/930)\n",
      "2019-03-14 16:46:15,384 : INFO : gram6-nationality-adjective: 97.5% (1409/1445)\n",
      "2019-03-14 16:46:17,047 : INFO : gram7-past-tense: 61.2% (954/1560)\n",
      "2019-03-14 16:46:18,150 : INFO : gram8-plural: 83.2% (879/1056)\n",
      "2019-03-14 16:46:18,906 : INFO : gram9-plural-verbs: 59.1% (415/702)\n",
      "2019-03-14 16:46:18,906 : INFO : Quadruplets with out-of-vocabulary words: 23.9%\n",
      "2019-03-14 16:46:18,906 : INFO : NB: analogies containing OOV words were skipped from evaluation! To change this behavior, use \"dummy4unknown=True\"\n",
      "2019-03-14 16:46:18,906 : INFO : Total accuracy: 74.0% (11016/14877)\n",
      "2019-03-14 16:46:18,920 : INFO : Evaluating word analogies for top 30000 words in the model on ./evaluation/1_Inflectional_morphology.txt\n",
      "2019-03-14 16:46:21,557 : INFO : I01 [noun - plural_reg].txt: 77.3% (1895/2450)\n",
      "2019-03-14 16:46:23,931 : INFO : I02 [noun - plural_irreg].txt: 61.3% (1325/2162)\n",
      "2019-03-14 16:46:24,079 : INFO : I03 [adj - comparative].txt: 99.1% (109/110)\n",
      "2019-03-14 16:46:24,148 : INFO : I04 [adj - superlative].txt: 89.3% (50/56)\n",
      "2019-03-14 16:46:27,069 : INFO : I05 [verb_inf - 3pSg].txt: 76.5% (1874/2450)\n",
      "2019-03-14 16:46:29,813 : INFO : I06 [verb_inf - Ving].txt: 63.6% (1557/2450)\n",
      "2019-03-14 16:46:32,529 : INFO : I07 [verb_inf - Ved].txt: 64.2% (1573/2450)\n",
      "2019-03-14 16:46:35,031 : INFO : I08 [verb_Ving - 3pSg].txt: 46.8% (1100/2352)\n",
      "2019-03-14 16:46:37,675 : INFO : I09 [verb_Ving - Ved].txt: 53.0% (1298/2450)\n",
      "2019-03-14 16:46:40,346 : INFO : I10 [verb_3pSg - Ved].txt: 52.3% (1282/2450)\n",
      "2019-03-14 16:46:40,348 : INFO : Quadruplets with out-of-vocabulary words: 20.9%\n",
      "2019-03-14 16:46:40,349 : INFO : NB: analogies containing OOV words were skipped from evaluation! To change this behavior, use \"dummy4unknown=True\"\n",
      "2019-03-14 16:46:40,349 : INFO : Total accuracy: 62.2% (12063/19380)\n",
      "2019-03-14 16:46:40,368 : INFO : Evaluating word analogies for top 30000 words in the model on ./evaluation/2_Derivational_morphology.txt\n",
      "2019-03-14 16:46:40,400 : INFO : D01 [noun+less_reg].txt: 0.0% (0/20)\n",
      "2019-03-14 16:46:42,784 : INFO : D02 [un+adj_reg].txt: 27.0% (583/2162)\n",
      "2019-03-14 16:46:45,356 : INFO : D03 [adj+ly_reg].txt: 16.0% (361/2256)\n",
      "2019-03-14 16:46:45,471 : INFO : D04 [over+adj_reg].txt: 5.6% (5/90)\n",
      "2019-03-14 16:46:45,606 : INFO : D05 [adj+ness_reg].txt: 28.2% (31/110)\n",
      "2019-03-14 16:46:45,759 : INFO : D06 [re+verb_reg].txt: 12.1% (16/132)\n",
      "2019-03-14 16:46:46,239 : INFO : D07 [verb+able_reg].txt: 5.0% (19/380)\n",
      "2019-03-14 16:46:47,605 : INFO : D08 [verb+er_irreg].txt: 4.3% (51/1190)\n",
      "2019-03-14 16:46:48,512 : INFO : D09 [verb+tion_irreg].txt: 11.7% (95/812)\n",
      "2019-03-14 16:46:50,287 : INFO : D10 [verb+ment_irreg].txt: 6.3% (99/1560)\n",
      "2019-03-14 16:46:50,288 : INFO : Quadruplets with out-of-vocabulary words: 64.4%\n",
      "2019-03-14 16:46:50,288 : INFO : NB: analogies containing OOV words were skipped from evaluation! To change this behavior, use \"dummy4unknown=True\"\n",
      "2019-03-14 16:46:50,289 : INFO : Total accuracy: 14.5% (1260/8712)\n",
      "2019-03-14 16:46:50,309 : INFO : Evaluating word analogies for top 30000 words in the model on ./evaluation/3_Encyclopedic_semantics.txt\n",
      "2019-03-14 16:46:52,869 : INFO : E01 [country - capital].txt: 95.0% (2235/2352)\n",
      "2019-03-14 16:46:55,247 : INFO : E02 [country - language].txt: 20.6% (446/2162)\n",
      "2019-03-14 16:46:57,213 : INFO : E03 [UK_city - county].txt: 22.8% (412/1806)\n",
      "2019-03-14 16:46:58,478 : INFO : E04 [name - nationality].txt: 14.9% (167/1122)\n",
      "2019-03-14 16:47:00,149 : INFO : E05 [name - occupation].txt: 30.6% (454/1482)\n",
      "2019-03-14 16:47:00,648 : INFO : E06 [animal - young].txt: 1.9% (8/420)\n",
      "2019-03-14 16:47:00,941 : INFO : E07 [animal - sound].txt: 0.4% (1/240)\n",
      "2019-03-14 16:47:02,130 : INFO : E08 [animal - shelter].txt: 0.2% (2/1056)\n",
      "2019-03-14 16:47:03,969 : INFO : E09 [things - color].txt: 11.4% (187/1640)\n",
      "2019-03-14 16:47:05,010 : INFO : E10 [male - female].txt: 65.8% (612/930)\n",
      "2019-03-14 16:47:05,026 : INFO : Quadruplets with out-of-vocabulary words: 46.1%\n",
      "2019-03-14 16:47:05,026 : INFO : NB: analogies containing OOV words were skipped from evaluation! To change this behavior, use \"dummy4unknown=True\"\n",
      "2019-03-14 16:47:05,026 : INFO : Total accuracy: 34.2% (4524/13210)\n",
      "2019-03-14 16:47:05,042 : INFO : Evaluating word analogies for top 30000 words in the model on ./evaluation/4_Lexicographic_semantics.txt\n",
      "2019-03-14 16:47:05,458 : INFO : L01 [hypernyms - animals].txt: 2.6% (10/380)\n",
      "2019-03-14 16:47:06,397 : INFO : L02 [hypernyms - misc].txt: 5.7% (50/870)\n",
      "2019-03-14 16:47:07,161 : INFO : L03 [hyponyms - misc].txt: 4.0% (28/702)\n",
      "2019-03-14 16:47:09,434 : INFO : L04 [meronyms - substance].txt: 3.2% (66/2070)\n",
      "2019-03-14 16:47:11,313 : INFO : L05 [meronyms - member].txt: 0.8% (14/1722)\n",
      "2019-03-14 16:47:12,212 : INFO : L06 [meronyms - part].txt: 3.2% (26/812)\n",
      "2019-03-14 16:47:13,597 : INFO : L07 [synonyms - intensity].txt: 9.9% (125/1260)\n",
      "2019-03-14 16:47:15,487 : INFO : L08 [synonyms - exact].txt: 15.5% (267/1722)\n",
      "2019-03-14 16:47:16,956 : INFO : L09 [antonyms - gradable].txt: 16.9% (225/1332)\n",
      "2019-03-14 16:47:19,181 : INFO : L10 [antonyms - binary].txt: 19.9% (395/1980)\n",
      "2019-03-14 16:47:19,181 : INFO : Quadruplets with out-of-vocabulary words: 47.6%\n",
      "2019-03-14 16:47:19,181 : INFO : NB: analogies containing OOV words were skipped from evaluation! To change this behavior, use \"dummy4unknown=True\"\n",
      "2019-03-14 16:47:19,181 : INFO : Total accuracy: 9.4% (1206/12850)\n",
      "2019-03-14 16:47:19,467 : INFO : Pearson correlation coefficient against ./evaluation/wordsim353.tsv: 0.6041\n",
      "2019-03-14 16:47:19,470 : INFO : Spearman rank-order correlation coefficient against ./evaluation/wordsim353.tsv: 0.6085\n",
      "2019-03-14 16:47:19,470 : INFO : Pairs with unknown words ratio: 0.0%\n"
     ]
    },
    {
     "name": "stdout",
     "output_type": "stream",
     "text": [
      "average Pearson Correlation:  0.6292469188016179\n",
      "average Spearman Correlation:  0.6314071943626178\n",
      "average Pearson MEN Correlation:  0.7441927713511737\n",
      "average Pearson Simlex Correlation:  0.3905111485047126\n",
      "averageSemanticAccuracy:  0.7920693102299233\n",
      "averageSyntacticAccuracy:  0.7055774647887324\n",
      "averageTotalAccuracy:  0.7404718693284936\n",
      "averageBATS1InflectionalMorphologyAccuracy:  0.6224458204334365\n",
      "averageBATS2DerivationalMorphologyAccuracy:  0.1446280991735537\n",
      "averageBATS3EncyclopedicSemanticsAccuracy:  0.3424678274034822\n",
      "averageBATS4LexicographicSemanticsAccuracy:  0.09385214007782101\n",
      "0.6292469188016179 0.6314071943626178 0.7441927713511737 0.3905111485047126 0.7920693102299233 0.7055774647887324 0.7404718693284936 0.6224458204334365 0.1446280991735537 0.3424678274034822 0.09385214007782101\n",
      "Evaluation 200,000 Similarity, 200,000 Analogies\n",
      "similarity WordSim-353: ((0.6040760898565237, 1.7523059027912832e-36), SpearmanrResult(correlation=0.6085349998820805, pvalue=3.879629536780527e-37), 0.0)\n"
     ]
    },
    {
     "name": "stderr",
     "output_type": "stream",
     "text": [
      "2019-03-14 16:47:19,947 : INFO : Pearson correlation coefficient against ./evaluation/MEN_dataset_natural_form_fullTabSeparated: 0.7432\n",
      "2019-03-14 16:47:19,947 : INFO : Spearman rank-order correlation coefficient against ./evaluation/MEN_dataset_natural_form_fullTabSeparated: 0.7486\n",
      "2019-03-14 16:47:19,947 : INFO : Pairs with unknown words ratio: 0.0%\n",
      "2019-03-14 16:47:20,250 : INFO : Pearson correlation coefficient against ./evaluation/SimLex-999TabSeparated.txt: 0.3878\n",
      "2019-03-14 16:47:20,250 : INFO : Spearman rank-order correlation coefficient against ./evaluation/SimLex-999TabSeparated.txt: 0.3692\n",
      "2019-03-14 16:47:20,250 : INFO : Pairs with unknown words ratio: 0.1%\n",
      "2019-03-14 16:47:20,517 : INFO : Evaluating word analogies for top 200000 words in the model on ./evaluation/questions-words.txt\n"
     ]
    },
    {
     "name": "stdout",
     "output_type": "stream",
     "text": [
      "similarity MEN-3000: ((0.7431612328933628, 0.0), SpearmanrResult(correlation=0.7485685413592661, pvalue=0.0), 0.0)\n",
      "similarity Simlex-999: ((0.3877827812330648, 3.687663544943181e-37), SpearmanrResult(correlation=0.3692121013345344, pvalue=1.371018956747063e-33), 0.10010010010010009)\n"
     ]
    },
    {
     "name": "stderr",
     "output_type": "stream",
     "text": [
      "2019-03-14 16:47:24,176 : INFO : capital-common-countries: 94.9% (480/506)\n",
      "2019-03-14 16:47:55,281 : INFO : capital-world: 96.0% (4342/4524)\n",
      "2019-03-14 16:48:01,099 : INFO : currency: 17.1% (138/808)\n",
      "2019-03-14 16:48:18,238 : INFO : city-in-state: 59.3% (1463/2467)\n",
      "2019-03-14 16:48:21,884 : INFO : family: 88.1% (446/506)\n",
      "2019-03-14 16:48:28,867 : INFO : gram1-adjective-to-adverb: 22.6% (224/992)\n",
      "2019-03-14 16:48:34,907 : INFO : gram2-opposite: 27.3% (222/812)\n",
      "2019-03-14 16:48:44,550 : INFO : gram3-comparative: 88.2% (1175/1332)\n",
      "2019-03-14 16:48:52,283 : INFO : gram4-superlative: 72.3% (811/1122)\n",
      "2019-03-14 16:48:59,846 : INFO : gram5-present-participle: 70.0% (739/1056)\n",
      "2019-03-14 16:49:10,612 : INFO : gram6-nationality-adjective: 92.6% (1480/1599)\n",
      "2019-03-14 16:49:21,852 : INFO : gram7-past-tense: 61.2% (954/1560)\n",
      "2019-03-14 16:49:31,606 : INFO : gram8-plural: 78.1% (1040/1332)\n",
      "2019-03-14 16:49:37,869 : INFO : gram9-plural-verbs: 58.5% (509/870)\n",
      "2019-03-14 16:49:37,869 : INFO : Quadruplets with out-of-vocabulary words: 0.3%\n",
      "2019-03-14 16:49:37,869 : INFO : NB: analogies containing OOV words were skipped from evaluation! To change this behavior, use \"dummy4unknown=True\"\n",
      "2019-03-14 16:49:37,869 : INFO : Total accuracy: 72.0% (14023/19486)\n",
      "2019-03-14 16:49:38,132 : INFO : Evaluating word analogies for top 200000 words in the model on ./evaluation/1_Inflectional_morphology.txt\n",
      "2019-03-14 16:49:55,227 : INFO : I01 [noun - plural_reg].txt: 77.3% (1895/2450)\n",
      "2019-03-14 16:50:12,302 : INFO : I02 [noun - plural_irreg].txt: 56.5% (1384/2450)\n",
      "2019-03-14 16:50:29,323 : INFO : I03 [adj - comparative].txt: 62.3% (1465/2352)\n",
      "2019-03-14 16:50:43,188 : INFO : I04 [adj - superlative].txt: 51.1% (1011/1980)\n",
      "2019-03-14 16:51:00,137 : INFO : I05 [verb_inf - 3pSg].txt: 76.4% (1873/2450)\n",
      "2019-03-14 16:51:17,087 : INFO : I06 [verb_inf - Ving].txt: 63.6% (1557/2450)\n",
      "2019-03-14 16:51:34,405 : INFO : I07 [verb_inf - Ved].txt: 64.2% (1573/2450)\n",
      "2019-03-14 16:51:51,362 : INFO : I08 [verb_Ving - 3pSg].txt: 45.8% (1123/2450)\n",
      "2019-03-14 16:52:08,490 : INFO : I09 [verb_Ving - Ved].txt: 53.0% (1298/2450)\n",
      "2019-03-14 16:52:25,680 : INFO : I10 [verb_3pSg - Ved].txt: 52.3% (1282/2450)\n",
      "2019-03-14 16:52:25,696 : INFO : Quadruplets with out-of-vocabulary words: 2.3%\n",
      "2019-03-14 16:52:25,696 : INFO : NB: analogies containing OOV words were skipped from evaluation! To change this behavior, use \"dummy4unknown=True\"\n",
      "2019-03-14 16:52:25,696 : INFO : Total accuracy: 60.4% (14461/23932)\n",
      "2019-03-14 16:52:25,950 : INFO : Evaluating word analogies for top 200000 words in the model on ./evaluation/2_Derivational_morphology.txt\n",
      "2019-03-14 16:52:38,892 : INFO : D01 [noun+less_reg].txt: 0.5% (9/1806)\n",
      "2019-03-14 16:52:56,158 : INFO : D02 [un+adj_reg].txt: 23.1% (565/2450)\n",
      "2019-03-14 16:53:12,864 : INFO : D03 [adj+ly_reg].txt: 16.7% (409/2450)\n",
      "2019-03-14 16:53:26,534 : INFO : D04 [over+adj_reg].txt: 4.6% (87/1892)\n",
      "2019-03-14 16:53:33,754 : INFO : D05 [adj+ness_reg].txt: 14.7% (146/992)\n",
      "2019-03-14 16:53:49,679 : INFO : D06 [re+verb_reg].txt: 11.7% (252/2162)\n",
      "2019-03-14 16:54:00,981 : INFO : D07 [verb+able_reg].txt: 2.4% (37/1560)\n",
      "2019-03-14 16:54:17,506 : INFO : D08 [verb+er_irreg].txt: 3.0% (70/2352)\n",
      "2019-03-14 16:54:32,072 : INFO : D09 [verb+tion_irreg].txt: 7.9% (164/2070)\n",
      "2019-03-14 16:54:49,214 : INFO : D10 [verb+ment_irreg].txt: 5.9% (145/2450)\n",
      "2019-03-14 16:54:49,214 : INFO : Quadruplets with out-of-vocabulary words: 17.6%\n",
      "2019-03-14 16:54:49,214 : INFO : NB: analogies containing OOV words were skipped from evaluation! To change this behavior, use \"dummy4unknown=True\"\n",
      "2019-03-14 16:54:49,214 : INFO : Total accuracy: 9.3% (1884/20184)\n",
      "2019-03-14 16:54:49,595 : INFO : Evaluating word analogies for top 200000 words in the model on ./evaluation/3_Encyclopedic_semantics.txt\n",
      "2019-03-14 16:55:06,209 : INFO : E01 [country - capital].txt: 95.1% (2329/2450)\n",
      "2019-03-14 16:55:22,978 : INFO : E02 [country - language].txt: 19.5% (478/2450)\n",
      "2019-03-14 16:55:39,775 : INFO : E03 [UK_city - county].txt: 22.8% (558/2450)\n",
      "2019-03-14 16:55:56,267 : INFO : E04 [name - nationality].txt: 19.5% (478/2450)\n",
      "2019-03-14 16:56:13,794 : INFO : E05 [name - occupation].txt: 30.2% (741/2450)\n",
      "2019-03-14 16:56:30,619 : INFO : E06 [animal - young].txt: 1.1% (27/2352)\n",
      "2019-03-14 16:56:44,901 : INFO : E07 [animal - sound].txt: 0.7% (14/1980)\n",
      "2019-03-14 16:57:02,158 : INFO : E08 [animal - shelter].txt: 0.2% (6/2450)\n",
      "2019-03-14 16:57:19,728 : INFO : E09 [things - color].txt: 13.0% (319/2450)\n",
      "2019-03-14 16:57:35,194 : INFO : E10 [male - female].txt: 44.6% (965/2162)\n",
      "2019-03-14 16:57:35,194 : INFO : Quadruplets with out-of-vocabulary words: 3.5%\n",
      "2019-03-14 16:57:35,194 : INFO : NB: analogies containing OOV words were skipped from evaluation! To change this behavior, use \"dummy4unknown=True\"\n",
      "2019-03-14 16:57:35,194 : INFO : Total accuracy: 25.0% (5915/23644)\n",
      "2019-03-14 16:57:35,448 : INFO : Evaluating word analogies for top 200000 words in the model on ./evaluation/4_Lexicographic_semantics.txt\n",
      "2019-03-14 16:57:49,151 : INFO : L01 [hypernyms - animals].txt: 2.9% (58/1980)\n",
      "2019-03-14 16:58:05,822 : INFO : L02 [hypernyms - misc].txt: 3.0% (71/2352)\n",
      "2019-03-14 16:58:22,695 : INFO : L03 [hyponyms - misc].txt: 2.7% (63/2352)\n",
      "2019-03-14 16:58:39,806 : INFO : L04 [meronyms - substance].txt: 2.7% (67/2450)\n",
      "2019-03-14 16:58:56,649 : INFO : L05 [meronyms - member].txt: 1.0% (23/2352)\n",
      "2019-03-14 16:59:13,852 : INFO : L06 [meronyms - part].txt: 1.1% (25/2352)\n",
      "2019-03-14 16:59:30,170 : INFO : L07 [synonyms - intensity].txt: 7.3% (164/2256)\n",
      "2019-03-14 16:59:47,825 : INFO : L08 [synonyms - exact].txt: 10.6% (259/2450)\n",
      "2019-03-14 17:00:04,690 : INFO : L09 [antonyms - gradable].txt: 12.4% (291/2352)\n",
      "2019-03-14 17:00:22,294 : INFO : L10 [antonyms - binary].txt: 21.3% (523/2450)\n",
      "2019-03-14 17:00:22,296 : INFO : Quadruplets with out-of-vocabulary words: 4.7%\n",
      "2019-03-14 17:00:22,296 : INFO : NB: analogies containing OOV words were skipped from evaluation! To change this behavior, use \"dummy4unknown=True\"\n",
      "2019-03-14 17:00:22,297 : INFO : Total accuracy: 6.6% (1544/23346)\n"
     ]
    },
    {
     "name": "stdout",
     "output_type": "stream",
     "text": [
      "average Pearson Correlation:  0.6040760898565237\n",
      "average Spearman Correlation:  0.6085349998820805\n",
      "average Pearson MEN Correlation:  0.7431612328933628\n",
      "average Pearson Simlex Correlation:  0.3877827812330648\n",
      "averageSemanticAccuracy:  0.7795936897060493\n",
      "averageSyntacticAccuracy:  0.6701639344262295\n",
      "averageTotalAccuracy:  0.7196448732423278\n",
      "averageBATS1InflectionalMorphologyAccuracy:  0.604253718870132\n",
      "averageBATS2DerivationalMorphologyAccuracy:  0.09334126040428062\n",
      "averageBATS3EncyclopedicSemanticsAccuracy:  0.2501691761123329\n",
      "averageBATS4LexicographicSemanticsAccuracy:  0.06613552642851024\n",
      "0.6040760898565237 0.6085349998820805 0.7431612328933628 0.3877827812330648 0.7795936897060493 0.6701639344262295 0.7196448732423278 0.604253718870132 0.09334126040428062 0.2501691761123329 0.06613552642851024\n"
     ]
    }
   ],
   "source": [
    "print(\"Evaluation 50,000 Similariy,30,000 Analogies\")\n",
    "pearsonCorrelation,spearmanCorrelation,pearsonCorrelationMEN, pearsonCorrelationSimlex,averageSemanticAccuracy,averageSyntacticAccuracy,averageTotalAccuracy,averageBATS1InflectionalMorphologyAccuracy,averageBATS2DerivationalMorphologyAccuracy,averageBATS3EncyclopedicSemanticsAccuracy,averageBATS4LexicographicSemanticsAccuracy = evaluation(model,50000,30000)\n",
    "print(\"average Pearson Correlation: \",pearsonCorrelation)    \n",
    "print(\"average Spearman Correlation: \",spearmanCorrelation)  \n",
    "print(\"average Pearson MEN Correlation: \",pearsonCorrelationMEN)\n",
    "print(\"average Pearson Simlex Correlation: \",pearsonCorrelationSimlex)\n",
    "print(\"averageSemanticAccuracy: \",averageSemanticAccuracy)\n",
    "print(\"averageSyntacticAccuracy: \",averageSyntacticAccuracy)\n",
    "print(\"averageTotalAccuracy: \",averageTotalAccuracy)\n",
    "print(\"averageBATS1InflectionalMorphologyAccuracy: \",averageBATS1InflectionalMorphologyAccuracy)\n",
    "print(\"averageBATS2DerivationalMorphologyAccuracy: \",averageBATS2DerivationalMorphologyAccuracy)\n",
    "print(\"averageBATS3EncyclopedicSemanticsAccuracy: \",averageBATS3EncyclopedicSemanticsAccuracy)\n",
    "print(\"averageBATS4LexicographicSemanticsAccuracy: \",averageBATS4LexicographicSemanticsAccuracy)\n",
    "print(pearsonCorrelation,spearmanCorrelation,pearsonCorrelationMEN, pearsonCorrelationSimlex,averageSemanticAccuracy,averageSyntacticAccuracy,averageTotalAccuracy,averageBATS1InflectionalMorphologyAccuracy,averageBATS2DerivationalMorphologyAccuracy,averageBATS3EncyclopedicSemanticsAccuracy,averageBATS4LexicographicSemanticsAccuracy)\n",
    "\n",
    "print(\"Evaluation 200,000 Similarity, 200,000 Analogies\")\n",
    "pearsonCorrelation,spearmanCorrelation,pearsonCorrelationMEN, pearsonCorrelationSimlex,averageSemanticAccuracy,averageSyntacticAccuracy,averageTotalAccuracy,averageBATS1InflectionalMorphologyAccuracy,averageBATS2DerivationalMorphologyAccuracy,averageBATS3EncyclopedicSemanticsAccuracy,averageBATS4LexicographicSemanticsAccuracy = evaluation(model,200000,200000)\n",
    "print(\"average Pearson Correlation: \",pearsonCorrelation)    \n",
    "print(\"average Spearman Correlation: \",spearmanCorrelation)  \n",
    "print(\"average Pearson MEN Correlation: \",pearsonCorrelationMEN)\n",
    "print(\"average Pearson Simlex Correlation: \",pearsonCorrelationSimlex)\n",
    "print(\"averageSemanticAccuracy: \",averageSemanticAccuracy)\n",
    "print(\"averageSyntacticAccuracy: \",averageSyntacticAccuracy)\n",
    "print(\"averageTotalAccuracy: \",averageTotalAccuracy)\n",
    "print(\"averageBATS1InflectionalMorphologyAccuracy: \",averageBATS1InflectionalMorphologyAccuracy)\n",
    "print(\"averageBATS2DerivationalMorphologyAccuracy: \",averageBATS2DerivationalMorphologyAccuracy)\n",
    "print(\"averageBATS3EncyclopedicSemanticsAccuracy: \",averageBATS3EncyclopedicSemanticsAccuracy)\n",
    "print(\"averageBATS4LexicographicSemanticsAccuracy: \",averageBATS4LexicographicSemanticsAccuracy)\n",
    "print(pearsonCorrelation,spearmanCorrelation,pearsonCorrelationMEN, pearsonCorrelationSimlex,averageSemanticAccuracy,averageSyntacticAccuracy,averageTotalAccuracy,averageBATS1InflectionalMorphologyAccuracy,averageBATS2DerivationalMorphologyAccuracy,averageBATS3EncyclopedicSemanticsAccuracy,averageBATS4LexicographicSemanticsAccuracy)"
   ]
  },
  {
   "cell_type": "code",
   "execution_count": 13,
   "metadata": {},
   "outputs": [
    {
     "data": {
      "text/plain": [
       "400000"
      ]
     },
     "execution_count": 13,
     "metadata": {},
     "output_type": "execute_result"
    }
   ],
   "source": [
    "len(model.vocab)"
   ]
  },
  {
   "cell_type": "markdown",
   "metadata": {
    "scrolled": true
   },
   "source": [
    "## Evaluation"
   ]
  },
  {
   "cell_type": "code",
   "execution_count": 13,
   "metadata": {
    "scrolled": true
   },
   "outputs": [
    {
     "name": "stdout",
     "output_type": "stream",
     "text": [
      "similarity evaluation: ((0.62924692081065292, 9.0528101822989792e-40), SpearmanrResult(correlation=0.63140719436261783, pvalue=4.1286925215619681e-40), 1.41643059490085)\n"
     ]
    }
   ],
   "source": [
    "pearsonCorrelation,spearmanCorrelation,averageSemanticAccuracy,averageSyntacticAccuracy,averageTotalAccuracy=evaluation(model)"
   ]
  },
  {
   "cell_type": "code",
   "execution_count": 14,
   "metadata": {},
   "outputs": [
    {
     "name": "stderr",
     "output_type": "stream",
     "text": [
      "C:\\Users\\drozado\\miniconda3\\lib\\site-packages\\ipykernel_launcher.py:1: DeprecationWarning: Call to deprecated `wv` (Attribute will be removed in 4.0.0, use self instead).\n",
      "  \"\"\"Entry point for launching an IPython kernel.\n"
     ]
    },
    {
     "data": {
      "text/plain": [
       "((0.74419274872322849, 0.0),\n",
       " SpearmanrResult(correlation=0.74964343721977755, pvalue=0.0),\n",
       " 2.5)"
      ]
     },
     "execution_count": 14,
     "metadata": {},
     "output_type": "execute_result"
    }
   ],
   "source": [
    "model.wv.evaluate_word_pairs('MEN_dataset_natural_form_fullTabSeparated', restrict_vocab=50000)"
   ]
  },
  {
   "cell_type": "code",
   "execution_count": 15,
   "metadata": {},
   "outputs": [
    {
     "name": "stderr",
     "output_type": "stream",
     "text": [
      "C:\\Users\\drozado\\miniconda3\\lib\\site-packages\\ipykernel_launcher.py:1: DeprecationWarning: Call to deprecated `wv` (Attribute will be removed in 4.0.0, use self instead).\n",
      "  \"\"\"Entry point for launching an IPython kernel.\n"
     ]
    },
    {
     "data": {
      "text/plain": [
       "((0.39051116232137911, 1.3519384378737139e-37),\n",
       " SpearmanrResult(correlation=0.37151114741749031, pvalue=6.3814733312406191e-34),\n",
       " 0.40040040040040037)"
      ]
     },
     "execution_count": 15,
     "metadata": {},
     "output_type": "execute_result"
    }
   ],
   "source": [
    "model.wv.evaluate_word_pairs('SimLex-999TabSeparated.txt', restrict_vocab=50000)"
   ]
  },
  {
   "cell_type": "code",
   "execution_count": 14,
   "metadata": {},
   "outputs": [
    {
     "name": "stdout",
     "output_type": "stream",
     "text": [
      "average Pearson Correlation:  0.629246920811\n",
      "average Spearman Correlation:  0.631407194363\n",
      "averageSemanticAccuracy:  0.7920693102299233\n",
      "averageSyntacticAccuracy:  0.7055774647887324\n",
      "averageTotalAccuracy:  0.7404718693284936\n"
     ]
    }
   ],
   "source": [
    "print(\"average Pearson Correlation: \",pearsonCorrelation)    \n",
    "print(\"average Spearman Correlation: \",spearmanCorrelation)    \n",
    "print(\"averageSemanticAccuracy: \",averageSemanticAccuracy)\n",
    "print(\"averageSyntacticAccuracy: \",averageSyntacticAccuracy)\n",
    "print(\"averageTotalAccuracy: \",averageTotalAccuracy)"
   ]
  },
  {
   "cell_type": "markdown",
   "metadata": {},
   "source": [
    "## semantic and syntactic accuracy"
   ]
  },
  {
   "cell_type": "code",
   "execution_count": 8,
   "metadata": {
    "scrolled": true
   },
   "outputs": [
    {
     "data": {
      "text/plain": [
       "15"
      ]
     },
     "execution_count": 8,
     "metadata": {},
     "output_type": "execute_result"
    }
   ],
   "source": [
    "rd = {}\n",
    "for i in range(len(r)):\n",
    "    lengthCategory=len(r[i]['correct'])+len(r[i]['incorrect'])\n",
    "    rd[r[i]['section']]=[len(r[i]['correct'])/lengthCategory,lengthCategory]\n",
    "len(r)\n"
   ]
  },
  {
   "cell_type": "code",
   "execution_count": 9,
   "metadata": {},
   "outputs": [
    {
     "data": {
      "text/plain": [
       "{'capital-common-countries': [0.8119047619047619, 420],\n",
       " 'capital-world': [0.7428998505231689, 669],\n",
       " 'city-in-state': [0.37587006960556846, 1293],\n",
       " 'currency': [0.0, 70],\n",
       " 'family': [0.967032967032967, 182],\n",
       " 'gram1-adjective-to-adverb': [0.3616666666666667, 600],\n",
       " 'gram2-opposite': [0.27205882352941174, 272],\n",
       " 'gram3-comparative': [0.7982954545454546, 1056],\n",
       " 'gram4-superlative': [0.6549707602339181, 342],\n",
       " 'gram5-present-participle': [0.7427536231884058, 552],\n",
       " 'gram6-nationality-adjective': [0.8814382896015549, 1029],\n",
       " 'gram7-past-tense': [0.5126984126984127, 1260],\n",
       " 'gram8-plural': [0.7751322751322751, 756],\n",
       " 'gram9-plural-verbs': [0.55, 420],\n",
       " 'total': [0.6319919291559242, 8921]}"
      ]
     },
     "execution_count": 9,
     "metadata": {},
     "output_type": "execute_result"
    }
   ],
   "source": [
    "rd"
   ]
  },
  {
   "cell_type": "code",
   "execution_count": 10,
   "metadata": {},
   "outputs": [
    {
     "data": {
      "text/plain": [
       "0.5399673735725938"
      ]
     },
     "execution_count": 10,
     "metadata": {},
     "output_type": "execute_result"
    }
   ],
   "source": [
    "numberSemanticExamples=rd['capital-common-countries'][1]+rd['capital-world'][1]+rd['currency'][1]+rd['city-in-state'][1]\n",
    "\n",
    "\n",
    "semanticAccuracy=(rd['capital-common-countries'][0]*rd['capital-common-countries'][1]\n",
    "                  +rd['capital-world'][0]*rd['capital-world'][1]\n",
    "                  +rd['currency'][0]*rd['currency'][1]\n",
    "                  +rd['city-in-state'][0]*rd['city-in-state'][1])/numberSemanticExamples\n",
    "semanticAccuracy\n"
   ]
  },
  {
   "cell_type": "code",
   "execution_count": 11,
   "metadata": {},
   "outputs": [
    {
     "data": {
      "text/plain": [
       "0.6581835533640846"
      ]
     },
     "execution_count": 11,
     "metadata": {},
     "output_type": "execute_result"
    }
   ],
   "source": [
    "numberSyntacticExamples=rd['gram1-adjective-to-adverb'][1]+rd['gram2-opposite'][1]+rd['gram3-comparative'][1]+rd['gram4-superlative'][1]+rd['gram5-present-participle'][1]+rd['gram6-nationality-adjective'][1]+rd['gram7-past-tense'][1]+rd['gram8-plural'][1]+rd['gram9-plural-verbs'][1]\n",
    "\n",
    "syntacticAccuracy=(rd['gram1-adjective-to-adverb'][0]*rd['gram1-adjective-to-adverb'][1]\n",
    "                  +rd['gram2-opposite'][0]*rd['gram2-opposite'][1]\n",
    "                  +rd['gram3-comparative'][0]*rd['gram3-comparative'][1]\n",
    "                  +rd['gram4-superlative'][0]*rd['gram4-superlative'][1]\n",
    "                  +rd['gram5-present-participle'][0]*rd['gram5-present-participle'][1]\n",
    "                  +rd['gram6-nationality-adjective'][0]*rd['gram6-nationality-adjective'][1]\n",
    "                  +rd['gram7-past-tense'][0]*rd['gram7-past-tense'][1]\n",
    "                  +rd['gram8-plural'][0]*rd['gram8-plural'][1]\n",
    "                  +rd['gram9-plural-verbs'][0]*rd['gram9-plural-verbs'][1])/numberSyntacticExamples\n",
    "syntacticAccuracy"
   ]
  }
 ],
 "metadata": {
  "anaconda-cloud": {},
  "kernelspec": {
   "display_name": "Python 3",
   "language": "python",
   "name": "python3"
  },
  "language_info": {
   "codemirror_mode": {
    "name": "ipython",
    "version": 3
   },
   "file_extension": ".py",
   "mimetype": "text/x-python",
   "name": "python",
   "nbconvert_exporter": "python",
   "pygments_lexer": "ipython3",
   "version": "3.7.3"
  }
 },
 "nbformat": 4,
 "nbformat_minor": 1
}
